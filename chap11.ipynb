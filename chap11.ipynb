{
  "nbformat": 4,
  "nbformat_minor": 0,
  "metadata": {
    "kernelspec": {
      "display_name": "Python 3",
      "language": "python",
      "name": "python3"
    },
    "language_info": {
      "codemirror_mode": {
        "name": "ipython",
        "version": 3
      },
      "file_extension": ".py",
      "mimetype": "text/x-python",
      "name": "python",
      "nbconvert_exporter": "python",
      "pygments_lexer": "ipython3",
      "version": "3.7.3"
    },
    "colab": {
      "name": "chap11.ipynb",
      "provenance": []
    }
  },
  "cells": [
    {
      "cell_type": "markdown",
      "metadata": {
        "id": "kZdv2FeWSQL9"
      },
      "source": [
        "# Modeling and Simulation in Python\n",
        "\n",
        "Chapter 11\n",
        "\n",
        "Copyright 2017 Allen Downey\n",
        "\n",
        "License: [Creative Commons Attribution 4.0 International](https://creativecommons.org/licenses/by/4.0)"
      ]
    },
    {
      "cell_type": "code",
      "metadata": {
        "colab": {
          "base_uri": "https://localhost:8080/"
        },
        "id": "H89Iah07Seen",
        "outputId": "cc270670-7e9c-40fb-c1fa-10ce3a3d0402"
      },
      "source": [
        "from os.path import basename, exists\n",
        "\n",
        "def download(url):\n",
        "    filename = basename(url)\n",
        "    if not exists(filename):\n",
        "        from urllib.request import urlretrieve\n",
        "        local, _ = urlretrieve(url, filename)\n",
        "        print('Downloaded ' + local)\n",
        "    \n",
        "download('https://raw.githubusercontent.com/AllenDowney/' +\n",
        "         'ModSimPy/master/modsim.py')"
      ],
      "execution_count": 2,
      "outputs": [
        {
          "output_type": "stream",
          "text": [
            "Downloaded modsim.py\n"
          ],
          "name": "stdout"
        }
      ]
    },
    {
      "cell_type": "code",
      "metadata": {
        "colab": {
          "base_uri": "https://localhost:8080/"
        },
        "id": "HpGagjo0SQL_",
        "outputId": "b092c449-6838-4705-dd24-a0980b2188d9"
      },
      "source": [
        "# Configure Jupyter so figures appear in the notebook\n",
        "%matplotlib inline\n",
        "\n",
        "# Configure Jupyter to display the assigned value after an assignment\n",
        "%config InteractiveShell.ast_node_interactivity='last_expr_or_assign'\n",
        "\n",
        "# import functions from the modsim.py module\n",
        "from modsim import *"
      ],
      "execution_count": 3,
      "outputs": [
        {
          "output_type": "stream",
          "text": [
            "ERROR:root:The 'ast_node_interactivity' trait of a Shell instance expected any of ['all', 'last', 'last_expr', 'none'], not the str 'last_expr_or_assign'.\n"
          ],
          "name": "stderr"
        }
      ]
    },
    {
      "cell_type": "markdown",
      "metadata": {
        "id": "H6Q_VpMpSQMA"
      },
      "source": [
        "### SIR implementation\n",
        "\n",
        "We'll use a `State` object to represent the number (or fraction) of people in each compartment."
      ]
    },
    {
      "cell_type": "code",
      "metadata": {
        "id": "GykDoPJWSQMB"
      },
      "source": [
        "init = State(S=89, I=1, R=0)"
      ],
      "execution_count": 8,
      "outputs": []
    },
    {
      "cell_type": "markdown",
      "metadata": {
        "id": "UwU-fPFaSQMB"
      },
      "source": [
        "To convert from number of people to fractions, we divide through by the total."
      ]
    },
    {
      "cell_type": "code",
      "metadata": {
        "id": "Fmcoq6vVSQMC"
      },
      "source": [
        "init /= sum(init)"
      ],
      "execution_count": 9,
      "outputs": []
    },
    {
      "cell_type": "markdown",
      "metadata": {
        "id": "sXn0fJsYSQMC"
      },
      "source": [
        "`make_system` creates a `System` object with the given parameters."
      ]
    },
    {
      "cell_type": "code",
      "metadata": {
        "id": "Hr6_4xK5SQMD"
      },
      "source": [
        "def make_system(beta, gamma):\n",
        "    \"\"\"Make a system object for the SIR model.\n",
        "    \n",
        "    beta: contact rate in days\n",
        "    gamma: recovery rate in days\n",
        "    \n",
        "    returns: System object\n",
        "    \"\"\"\n",
        "    init = State(S=89, I=1, R=0)\n",
        "    init /= sum(init)\n",
        "\n",
        "    t0 = 0\n",
        "    t_end = 7 * 14\n",
        "\n",
        "    return System(init=init, t0=t0, t_end=t_end,\n",
        "                  beta=beta, gamma=gamma)"
      ],
      "execution_count": 12,
      "outputs": []
    },
    {
      "cell_type": "markdown",
      "metadata": {
        "id": "F924nAJESQMH"
      },
      "source": [
        "Here's an example with hypothetical values for `beta` and `gamma`."
      ]
    },
    {
      "cell_type": "code",
      "metadata": {
        "id": "z2U2kmYoSQMI"
      },
      "source": [
        "tc = 3      # time between contacts in days \n",
        "tr = 4      # recovery time in days\n",
        "\n",
        "beta = 1 / tc      # contact rate in per day\n",
        "gamma = 1 / tr     # recovery rate in per day\n",
        "\n",
        "system = make_system(beta, gamma)"
      ],
      "execution_count": 13,
      "outputs": []
    },
    {
      "cell_type": "markdown",
      "metadata": {
        "id": "IZ_PcvPVSQMJ"
      },
      "source": [
        "The update function takes the state during the current time step and returns the state during the next time step."
      ]
    },
    {
      "cell_type": "code",
      "metadata": {
        "id": "YL_o1nnQSQMK"
      },
      "source": [
        "def update_func(state, t, system):\n",
        "    \"\"\"Update the SIR model.\n",
        "    \n",
        "    state: State with variables S, I, R\n",
        "    t: time step\n",
        "    system: System with beta and gamma\n",
        "    \n",
        "    returns: State object\n",
        "    \"\"\"\n",
        "    s, i, r = state\n",
        "\n",
        "    infected = system.beta * i * s    \n",
        "    recovered = system.gamma * i\n",
        "    \n",
        "    s -= infected\n",
        "    i += infected - recovered\n",
        "    r += recovered\n",
        "    \n",
        "    return State(S=s, I=i, R=r)"
      ],
      "execution_count": 14,
      "outputs": []
    },
    {
      "cell_type": "markdown",
      "metadata": {
        "id": "3N6z08OmSQML"
      },
      "source": [
        "To run a single time step, we call it like this:"
      ]
    },
    {
      "cell_type": "code",
      "metadata": {
        "id": "SMe1AXB1SQMM"
      },
      "source": [
        "state = update_func(init, 0, system)"
      ],
      "execution_count": 15,
      "outputs": []
    },
    {
      "cell_type": "markdown",
      "metadata": {
        "id": "dx8F16rcSQMN"
      },
      "source": [
        "Now we can run a simulation by calling the update function for each time step."
      ]
    },
    {
      "cell_type": "code",
      "metadata": {
        "id": "WVMBN1b7SQMN"
      },
      "source": [
        "def run_simulation(system, update_func):\n",
        "    \"\"\"Runs a simulation of the system.\n",
        "    \n",
        "    system: System object\n",
        "    update_func: function that updates state\n",
        "    \n",
        "    returns: State object for final state\n",
        "    \"\"\"\n",
        "    state = system.init\n",
        "    \n",
        "    for t in linrange(system.t0, system.t_end):\n",
        "        state = update_func(state, t, system)\n",
        "        \n",
        "    return state"
      ],
      "execution_count": 16,
      "outputs": []
    },
    {
      "cell_type": "markdown",
      "metadata": {
        "id": "CRXMvRajSQMP"
      },
      "source": [
        "The result is the state of the system at `t_end`"
      ]
    },
    {
      "cell_type": "code",
      "metadata": {
        "scrolled": true,
        "colab": {
          "base_uri": "https://localhost:8080/"
        },
        "id": "vkQSw-kISQMQ",
        "outputId": "31c0be4d-0546-4f95-8e55-bdbb7f885f97"
      },
      "source": [
        "run_simulation(system, update_func)"
      ],
      "execution_count": 17,
      "outputs": [
        {
          "output_type": "execute_result",
          "data": {
            "text/plain": [
              "S    0.520453\n",
              "I    0.000615\n",
              "R    0.478933\n",
              "Name: state, dtype: float64"
            ]
          },
          "metadata": {
            "tags": []
          },
          "execution_count": 17
        }
      ]
    },
    {
      "cell_type": "markdown",
      "metadata": {
        "id": "VQWRYCxKSQMR"
      },
      "source": [
        "**Exercise**  Suppose the time between contacts is 4 days and the recovery time is 5 days.  After 14 weeks, how many students, total, have been infected?\n",
        "\n",
        "Hint: what is the change in `S` between the beginning and the end of the simulation?"
      ]
    },
    {
      "cell_type": "code",
      "metadata": {
        "colab": {
          "base_uri": "https://localhost:8080/"
        },
        "id": "EhGf2EXlSQMR",
        "outputId": "18fab22a-f03e-432d-c373-b70e40f5fb56"
      },
      "source": [
        "# Solution goes here\n",
        "tc = 4      # time between contacts in days \n",
        "tr = 5      # recovery time in days\n",
        "\n",
        "beta = 1 / tc      # contact rate in per day\n",
        "gamma = 1 / tr     # recovery rate in per day\n",
        "\n",
        "system = make_system(beta, gamma)\n",
        "\n",
        "run_simulation(system, update_func)"
      ],
      "execution_count": 19,
      "outputs": [
        {
          "output_type": "execute_result",
          "data": {
            "text/plain": [
              "S    0.609458\n",
              "I    0.004450\n",
              "R    0.386091\n",
              "Name: state, dtype: float64"
            ]
          },
          "metadata": {
            "tags": []
          },
          "execution_count": 19
        }
      ]
    },
    {
      "cell_type": "markdown",
      "metadata": {
        "id": "QNuBa2TISQMS"
      },
      "source": [
        "### Using TimeSeries objects"
      ]
    },
    {
      "cell_type": "markdown",
      "metadata": {
        "id": "blRkazFsSQMS"
      },
      "source": [
        "If we want to store the state of the system at each time step, we can use one `TimeSeries` object for each state variable."
      ]
    },
    {
      "cell_type": "code",
      "metadata": {
        "id": "3ApsG8wLSQMS"
      },
      "source": [
        "def run_simulation(system, update_func):\n",
        "    \"\"\"Runs a simulation of the system.\n",
        "    \n",
        "    Add three Series objects to the System: S, I, R\n",
        "    \n",
        "    system: System object\n",
        "    update_func: function that updates state\n",
        "    \"\"\"\n",
        "    S = TimeSeries()\n",
        "    I = TimeSeries()\n",
        "    R = TimeSeries()\n",
        "\n",
        "    state = system.init\n",
        "    t0 = system.t0\n",
        "    S[t0], I[t0], R[t0] = state\n",
        "    \n",
        "    for t in linrange(system.t0, system.t_end):\n",
        "        state = update_func(state, t, system)\n",
        "        S[t+1], I[t+1], R[t+1] = state\n",
        "    \n",
        "    return S, I, R"
      ],
      "execution_count": 38,
      "outputs": []
    },
    {
      "cell_type": "markdown",
      "metadata": {
        "id": "OIKettpESQMT"
      },
      "source": [
        "Here's how we call it."
      ]
    },
    {
      "cell_type": "code",
      "metadata": {
        "id": "BDWP6OJ9SQMT"
      },
      "source": [
        "tc = 3      # time between contacts in days \n",
        "tr = 4      # recovery time in days\n",
        "\n",
        "beta = 1 / tc      # contact rate in per day\n",
        "gamma = 1 / tr     # recovery rate in per day\n",
        "\n",
        "system = make_system(beta, gamma)\n",
        "S, I, R = run_simulation(system, update_func)"
      ],
      "execution_count": 22,
      "outputs": []
    },
    {
      "cell_type": "markdown",
      "metadata": {
        "id": "tMRfn6-eSQMT"
      },
      "source": [
        "And then we can plot the results."
      ]
    },
    {
      "cell_type": "code",
      "metadata": {
        "id": "xtFjATPbSQMT"
      },
      "source": [
        "def plot_results(S, I, R):\n",
        "    \"\"\"Plot the results of a SIR model.\n",
        "    \n",
        "    S: TimeSeries\n",
        "    I: TimeSeries\n",
        "    R: TimeSeries\n",
        "    \"\"\"\n",
        "    plot(S, '--', label='Susceptible')\n",
        "    plot(I, '-', label='Infected')\n",
        "    plot(R, ':', label='Recovered')\n",
        "    decorate(xlabel='Time (days)',\n",
        "             ylabel='Fraction of population')"
      ],
      "execution_count": 39,
      "outputs": []
    },
    {
      "cell_type": "code",
      "metadata": {
        "id": "-Zcc7uO0UNqR"
      },
      "source": [
        "from matplotlib.pyplot import *"
      ],
      "execution_count": 27,
      "outputs": []
    },
    {
      "cell_type": "markdown",
      "metadata": {
        "id": "4TbUGSo3SQMU"
      },
      "source": [
        "Here's what they look like."
      ]
    },
    {
      "cell_type": "code",
      "metadata": {
        "colab": {
          "base_uri": "https://localhost:8080/",
          "height": 297
        },
        "id": "bhhKUL5SSQMU",
        "outputId": "fdcbf97f-d5f7-48a5-960a-59591a8d2672"
      },
      "source": [
        "plot_results(S, I, R)\n",
        "savefig('chap11-fig01.pdf')"
      ],
      "execution_count": 28,
      "outputs": [
        {
          "output_type": "display_data",
          "data": {
            "image/png": "[encoded data removed]",
            "text/plain": [
              "<Figure size 432x288 with 1 Axes>"
            ]
          },
          "metadata": {
            "tags": [],
            "needs_background": "light"
          }
        }
      ]
    },
    {
      "cell_type": "markdown",
      "metadata": {
        "id": "NX5JnngRSQMU"
      },
      "source": [
        "### Using a DataFrame"
      ]
    },
    {
      "cell_type": "markdown",
      "metadata": {
        "id": "rzQI4y4YSQMV"
      },
      "source": [
        "Instead of making three `TimeSeries` objects, we can use one `DataFrame`.\n",
        "\n",
        "We have to use `row` to selects rows, rather than columns.  But then Pandas does the right thing, matching up the state variables with the columns of the `DataFrame`."
      ]
    },
    {
      "cell_type": "code",
      "metadata": {
        "id": "5lpMpFvRSQMW"
      },
      "source": [
        "def run_simulation(system, update_func):\n",
        "    \"\"\"Runs a simulation of the system.\n",
        "        \n",
        "    system: System object\n",
        "    update_func: function that updates state\n",
        "    \n",
        "    returns: TimeFrame\n",
        "    \"\"\"\n",
        "    frame = TimeFrame(columns=system.init.index)\n",
        "    frame.row[system.t0] = system.init\n",
        "    \n",
        "    for t in linrange(system.t0, system.t_end):\n",
        "        frame.row[t+1] = update_func(frame.row[t], t, system)\n",
        "    \n",
        "    return frame"
      ],
      "execution_count": 35,
      "outputs": []
    },
    {
      "cell_type": "markdown",
      "metadata": {
        "id": "8NYPI5QmSQMX"
      },
      "source": [
        "Here's how we run it, and what the result looks like."
      ]
    },
    {
      "cell_type": "code",
      "metadata": {
        "id": "3x5uigvPSQMX"
      },
      "source": [
        "tc = 3      # time between contacts in days \n",
        "tr = 4      # recovery time in days\n",
        "\n",
        "beta = 1 / tc      # contact rate in per day\n",
        "gamma = 1 / tr     # recovery rate in per day\n",
        "\n",
        "system = make_system(beta, gamma)\n",
        "results = run_simulation(system, update_func)\n",
        "results.head()"
      ],
      "execution_count": 43,
      "outputs": []
    },
    {
      "cell_type": "markdown",
      "metadata": {
        "id": "2jYTzGTWSQMX"
      },
      "source": [
        "We can extract the results and plot them."
      ]
    },
    {
      "cell_type": "code",
      "metadata": {
        "id": "isoqnGQGSQMX"
      },
      "source": [
        "plot_results(results.S, results.I, results.R)"
      ],
      "execution_count": 44,
      "outputs": []
    },
    {
      "cell_type": "markdown",
      "metadata": {
        "id": "TZP8sm9sSQMY"
      },
      "source": [
        "## Exercises\n",
        "\n",
        "**Exercise**  Suppose the time between contacts is 4 days and the recovery time is 5 days.  Simulate this scenario for 14 weeks and plot the results."
      ]
    },
    {
      "cell_type": "code",
      "metadata": {
        "id": "oeMI1GiCSQMY"
      },
      "source": [
        "# Solution goes here\n",
        "tc = 4      # time between contacts in days \n",
        "tr = 5      # recovery time in days\n",
        "\n",
        "beta = 1 / tc      # contact rate in per day\n",
        "gamma = 1 / tr     # recovery rate in per day\n",
        "\n",
        "system = make_system(beta, gamma)\n",
        "S, I, R = run_simulation(system, update_func)"
      ],
      "execution_count": 40,
      "outputs": []
    },
    {
      "cell_type": "code",
      "metadata": {
        "colab": {
          "base_uri": "https://localhost:8080/",
          "height": 297
        },
        "id": "eJp55dgbVhK2",
        "outputId": "f47e5b01-c95d-4e2f-9120-454ec8ec5d07"
      },
      "source": [
        "plot_results(S, I, R)\n",
        "savefig('chap11-fig02.pdf')"
      ],
      "execution_count": 42,
      "outputs": [
        {
          "output_type": "display_data",
          "data": {
            "image/png": "[encoded data removed]",
            "text/plain": [
              "<Figure size 432x288 with 1 Axes>"
            ]
          },
          "metadata": {
            "tags": [],
            "needs_background": "light"
          }
        }
      ]
    }
  ]
}